{
 "cells": [
  {
   "cell_type": "markdown",
   "id": "6d4f88ed",
   "metadata": {},
   "source": [
    "# Import Required Libraries\n",
    "### First we will import all the necessary libraries needed for analysis and visualization."
   ]
  },
  {
   "cell_type": "code",
   "execution_count": 1,
   "id": "01f59852",
   "metadata": {},
   "outputs": [],
   "source": [
    "import pandas as pd\n",
    "import numpy as np\n",
    "import seaborn as sns\n",
    "import matplotlib.pyplot as plt"
   ]
  },
  {
   "cell_type": "markdown",
   "id": "2e061b46",
   "metadata": {},
   "source": [
    "#### Now that we have all the necessary libraries lets load the data set. We will load it into the pandas DataFrame data."
   ]
  },
  {
   "cell_type": "code",
   "execution_count": 2,
   "id": "02bcf750",
   "metadata": {},
   "outputs": [],
   "source": [
    "#data of the swiggy\n",
    "data=pd.read_csv(\"Swiggy_50.csv\")"
   ]
  },
  {
   "cell_type": "markdown",
   "id": "f36861e2",
   "metadata": {},
   "source": [
    "#### We read the dataset into the DataFrame data and will have a look at the shape , columns , column data types and the first 5 rows of the data. This will give a brief overview of the data at hand."
   ]
  },
  {
   "cell_type": "code",
   "execution_count": 3,
   "id": "9ae0372a",
   "metadata": {},
   "outputs": [
    {
     "data": {
      "text/html": [
       "<div>\n",
       "<style scoped>\n",
       "    .dataframe tbody tr th:only-of-type {\n",
       "        vertical-align: middle;\n",
       "    }\n",
       "\n",
       "    .dataframe tbody tr th {\n",
       "        vertical-align: top;\n",
       "    }\n",
       "\n",
       "    .dataframe thead th {\n",
       "        text-align: right;\n",
       "    }\n",
       "</style>\n",
       "<table border=\"1\" class=\"dataframe\">\n",
       "  <thead>\n",
       "    <tr style=\"text-align: right;\">\n",
       "      <th></th>\n",
       "      <th>Restaurant Name</th>\n",
       "      <th>Category</th>\n",
       "      <th>Rating</th>\n",
       "      <th>Cost for two</th>\n",
       "      <th>Veg</th>\n",
       "      <th>city</th>\n",
       "      <th>Area</th>\n",
       "      <th>Locality</th>\n",
       "      <th>Address</th>\n",
       "      <th>Long Distance Delivery</th>\n",
       "    </tr>\n",
       "  </thead>\n",
       "  <tbody>\n",
       "    <tr>\n",
       "      <th>0</th>\n",
       "      <td>KFC</td>\n",
       "      <td>American,Snacks,Biryani</td>\n",
       "      <td>3.9</td>\n",
       "      <td>400</td>\n",
       "      <td>False</td>\n",
       "      <td>Delhi</td>\n",
       "      <td>Paharganj</td>\n",
       "      <td>KFC Paharganj</td>\n",
       "      <td>KFC Restaurant 2154, Desh Bandhu Gupta Road, N...</td>\n",
       "      <td>0</td>\n",
       "    </tr>\n",
       "    <tr>\n",
       "      <th>1</th>\n",
       "      <td>McDonald's</td>\n",
       "      <td>American</td>\n",
       "      <td>4.3</td>\n",
       "      <td>400</td>\n",
       "      <td>False</td>\n",
       "      <td>Delhi</td>\n",
       "      <td>Kashmere Gate</td>\n",
       "      <td>Delhi ISBT DMRC (GF)</td>\n",
       "      <td>Delhi ISBT DMRC,ISBT DMRC Railway Station. Kas...</td>\n",
       "      <td>0</td>\n",
       "    </tr>\n",
       "    <tr>\n",
       "      <th>2</th>\n",
       "      <td>Haldiram's</td>\n",
       "      <td>Sweets,Snacks,North Indian</td>\n",
       "      <td>4.0</td>\n",
       "      <td>350</td>\n",
       "      <td>True</td>\n",
       "      <td>Delhi</td>\n",
       "      <td>Chandni Chowk</td>\n",
       "      <td>Chandni Chowk</td>\n",
       "      <td>1452/2 Near Fountain Chandni Chowk Delhi 110015</td>\n",
       "      <td>0</td>\n",
       "    </tr>\n",
       "    <tr>\n",
       "      <th>3</th>\n",
       "      <td>Chai Point</td>\n",
       "      <td>Bakery,Beverages,Maharashtrian,Snacks,Street F...</td>\n",
       "      <td>4.2</td>\n",
       "      <td>150</td>\n",
       "      <td>False</td>\n",
       "      <td>Delhi</td>\n",
       "      <td>Connaught Place</td>\n",
       "      <td>Connaught Place</td>\n",
       "      <td>Shop No - B1, B Block Middle circle , Connaugh...</td>\n",
       "      <td>0</td>\n",
       "    </tr>\n",
       "    <tr>\n",
       "      <th>4</th>\n",
       "      <td>Bikanervala Chandni Chowk</td>\n",
       "      <td>Street Food,Sweets</td>\n",
       "      <td>4.1</td>\n",
       "      <td>400</td>\n",
       "      <td>False</td>\n",
       "      <td>Delhi</td>\n",
       "      <td>Old Delhi</td>\n",
       "      <td>Old Delhi</td>\n",
       "      <td>382, NEAR FATEH PUR, CHANDNI CHOWK,110006</td>\n",
       "      <td>0</td>\n",
       "    </tr>\n",
       "  </tbody>\n",
       "</table>\n",
       "</div>"
      ],
      "text/plain": [
       "             Restaurant Name  \\\n",
       "0                        KFC   \n",
       "1                 McDonald's   \n",
       "2                 Haldiram's   \n",
       "3                 Chai Point   \n",
       "4  Bikanervala Chandni Chowk   \n",
       "\n",
       "                                            Category  Rating  Cost for two  \\\n",
       "0                            American,Snacks,Biryani     3.9           400   \n",
       "1                                           American     4.3           400   \n",
       "2                         Sweets,Snacks,North Indian     4.0           350   \n",
       "3  Bakery,Beverages,Maharashtrian,Snacks,Street F...     4.2           150   \n",
       "4                                 Street Food,Sweets     4.1           400   \n",
       "\n",
       "     Veg   city             Area              Locality  \\\n",
       "0  False  Delhi        Paharganj         KFC Paharganj   \n",
       "1  False  Delhi    Kashmere Gate  Delhi ISBT DMRC (GF)   \n",
       "2   True  Delhi    Chandni Chowk         Chandni Chowk   \n",
       "3  False  Delhi  Connaught Place       Connaught Place   \n",
       "4  False  Delhi        Old Delhi             Old Delhi   \n",
       "\n",
       "                                             Address  Long Distance Delivery  \n",
       "0  KFC Restaurant 2154, Desh Bandhu Gupta Road, N...                       0  \n",
       "1  Delhi ISBT DMRC,ISBT DMRC Railway Station. Kas...                       0  \n",
       "2    1452/2 Near Fountain Chandni Chowk Delhi 110015                       0  \n",
       "3  Shop No - B1, B Block Middle circle , Connaugh...                       0  \n",
       "4          382, NEAR FATEH PUR, CHANDNI CHOWK,110006                       0  "
      ]
     },
     "execution_count": 3,
     "metadata": {},
     "output_type": "execute_result"
    }
   ],
   "source": [
    "data.head()"
   ]
  },
  {
   "cell_type": "markdown",
   "id": "101a4a60",
   "metadata": {},
   "source": [
    "#### Thus we get a glimpse of the data set by looking at the first 5 rows returned by df.head(). Optionally we can specify the number of rows to be returned, by sending it as a parameter to the head() function."
   ]
  },
  {
   "cell_type": "code",
   "execution_count": 4,
   "id": "cfca289b",
   "metadata": {},
   "outputs": [
    {
     "data": {
      "text/plain": [
       "Index(['Restaurant Name', 'Category', 'Rating', 'Cost for two', 'Veg', 'city',\n",
       "       'Area', 'Locality', 'Address', 'Long Distance Delivery'],\n",
       "      dtype='object')"
      ]
     },
     "execution_count": 4,
     "metadata": {},
     "output_type": "execute_result"
    }
   ],
   "source": [
    "# columns of the data\n",
    "data.columns"
   ]
  },
  {
   "cell_type": "markdown",
   "id": "d8da1168",
   "metadata": {},
   "source": [
    "## Here’s what we know about the columns:\n",
    "### Demographic information of Cost analysis and Rating\n",
    "#### ~ Restaurant Name: Name of the restaurant \n",
    "#### ~ Category: what type of food itmes he/she has orderd\n",
    "#### ~ Cost for two: Cost for the food items\\\n",
    "#### ~ Veg: is the item veg or non-veg\n",
    "#### ~ City: City of the restaurant\n",
    "#### ~ Area: Area of the restaurant\n",
    "#### ~ Locality: Location of the restaurant\n",
    "#### ~ Address: Address of the customer\n",
    "#### ~ Long Distance Delivery: Is the delivery boy deliverd the food long distance or not\n",
    "#### ~ Rating : The Rating of the Restaurant in the particular locality"
   ]
  },
  {
   "cell_type": "code",
   "execution_count": 5,
   "id": "9f34ec2a",
   "metadata": {},
   "outputs": [
    {
     "name": "stdout",
     "output_type": "stream",
     "text": [
      "Restaurant Name           31804\n",
      "Category                  31804\n",
      "Rating                    14138\n",
      "Cost for two              31804\n",
      "Veg                       31804\n",
      "city                      31804\n",
      "Area                      31804\n",
      "Locality                  31780\n",
      "Address                   31802\n",
      "Long Distance Delivery    31804\n",
      "dtype: int64\n"
     ]
    }
   ],
   "source": [
    "print(data.count())"
   ]
  },
  {
   "cell_type": "code",
   "execution_count": 6,
   "id": "8176978f",
   "metadata": {},
   "outputs": [
    {
     "data": {
      "text/plain": [
       "Restaurant Name            object\n",
       "Category                   object\n",
       "Rating                    float64\n",
       "Cost for two                int64\n",
       "Veg                          bool\n",
       "city                       object\n",
       "Area                       object\n",
       "Locality                   object\n",
       "Address                    object\n",
       "Long Distance Delivery      int64\n",
       "dtype: object"
      ]
     },
     "execution_count": 6,
     "metadata": {},
     "output_type": "execute_result"
    }
   ],
   "source": [
    "data.dtypes"
   ]
  },
  {
   "cell_type": "code",
   "execution_count": 7,
   "id": "270b4af0",
   "metadata": {},
   "outputs": [
    {
     "data": {
      "text/plain": [
       "(31804, 10)"
      ]
     },
     "execution_count": 7,
     "metadata": {},
     "output_type": "execute_result"
    }
   ],
   "source": [
    "# shape of the data\n",
    "data.shape"
   ]
  },
  {
   "cell_type": "code",
   "execution_count": 8,
   "id": "1c704f98",
   "metadata": {},
   "outputs": [
    {
     "name": "stdout",
     "output_type": "stream",
     "text": [
      "<class 'pandas.core.frame.DataFrame'>\n",
      "RangeIndex: 31804 entries, 0 to 31803\n",
      "Data columns (total 10 columns):\n",
      " #   Column                  Non-Null Count  Dtype  \n",
      "---  ------                  --------------  -----  \n",
      " 0   Restaurant Name         31804 non-null  object \n",
      " 1   Category                31804 non-null  object \n",
      " 2   Rating                  14138 non-null  float64\n",
      " 3   Cost for two            31804 non-null  int64  \n",
      " 4   Veg                     31804 non-null  bool   \n",
      " 5   city                    31804 non-null  object \n",
      " 6   Area                    31804 non-null  object \n",
      " 7   Locality                31780 non-null  object \n",
      " 8   Address                 31802 non-null  object \n",
      " 9   Long Distance Delivery  31804 non-null  int64  \n",
      "dtypes: bool(1), float64(1), int64(2), object(6)\n",
      "memory usage: 2.2+ MB\n"
     ]
    }
   ],
   "source": [
    "# informaation of the data and dattype of the dataset \n",
    "data.info()"
   ]
  },
  {
   "cell_type": "markdown",
   "id": "f03b8de0",
   "metadata": {},
   "source": [
    "## Data Cleaning\n",
    "#### Finding the null values and repalcing it by mean/median/mode "
   ]
  },
  {
   "cell_type": "code",
   "execution_count": 9,
   "id": "d0a1ab70",
   "metadata": {},
   "outputs": [
    {
     "data": {
      "text/plain": [
       "Restaurant Name               0\n",
       "Category                      0\n",
       "Rating                    17666\n",
       "Cost for two                  0\n",
       "Veg                           0\n",
       "city                          0\n",
       "Area                          0\n",
       "Locality                     24\n",
       "Address                       2\n",
       "Long Distance Delivery        0\n",
       "dtype: int64"
      ]
     },
     "execution_count": 9,
     "metadata": {},
     "output_type": "execute_result"
    }
   ],
   "source": [
    "#finding the null values\n",
    "data.isnull().sum()"
   ]
  },
  {
   "cell_type": "code",
   "execution_count": 10,
   "id": "01ebce40",
   "metadata": {},
   "outputs": [
    {
     "data": {
      "text/html": [
       "<div>\n",
       "<style scoped>\n",
       "    .dataframe tbody tr th:only-of-type {\n",
       "        vertical-align: middle;\n",
       "    }\n",
       "\n",
       "    .dataframe tbody tr th {\n",
       "        vertical-align: top;\n",
       "    }\n",
       "\n",
       "    .dataframe thead th {\n",
       "        text-align: right;\n",
       "    }\n",
       "</style>\n",
       "<table border=\"1\" class=\"dataframe\">\n",
       "  <thead>\n",
       "    <tr style=\"text-align: right;\">\n",
       "      <th></th>\n",
       "      <th>Rating</th>\n",
       "      <th>Cost for two</th>\n",
       "      <th>Long Distance Delivery</th>\n",
       "    </tr>\n",
       "  </thead>\n",
       "  <tbody>\n",
       "    <tr>\n",
       "      <th>count</th>\n",
       "      <td>14138.000000</td>\n",
       "      <td>31804.000000</td>\n",
       "      <td>31804.000000</td>\n",
       "    </tr>\n",
       "    <tr>\n",
       "      <th>mean</th>\n",
       "      <td>3.907745</td>\n",
       "      <td>289.795592</td>\n",
       "      <td>0.358414</td>\n",
       "    </tr>\n",
       "    <tr>\n",
       "      <th>std</th>\n",
       "      <td>0.456514</td>\n",
       "      <td>174.896346</td>\n",
       "      <td>0.479542</td>\n",
       "    </tr>\n",
       "    <tr>\n",
       "      <th>min</th>\n",
       "      <td>1.100000</td>\n",
       "      <td>0.000000</td>\n",
       "      <td>0.000000</td>\n",
       "    </tr>\n",
       "    <tr>\n",
       "      <th>25%</th>\n",
       "      <td>3.700000</td>\n",
       "      <td>200.000000</td>\n",
       "      <td>0.000000</td>\n",
       "    </tr>\n",
       "    <tr>\n",
       "      <th>50%</th>\n",
       "      <td>4.000000</td>\n",
       "      <td>250.000000</td>\n",
       "      <td>0.000000</td>\n",
       "    </tr>\n",
       "    <tr>\n",
       "      <th>75%</th>\n",
       "      <td>4.200000</td>\n",
       "      <td>300.000000</td>\n",
       "      <td>1.000000</td>\n",
       "    </tr>\n",
       "    <tr>\n",
       "      <th>max</th>\n",
       "      <td>5.000000</td>\n",
       "      <td>3100.000000</td>\n",
       "      <td>1.000000</td>\n",
       "    </tr>\n",
       "  </tbody>\n",
       "</table>\n",
       "</div>"
      ],
      "text/plain": [
       "             Rating  Cost for two  Long Distance Delivery\n",
       "count  14138.000000  31804.000000            31804.000000\n",
       "mean       3.907745    289.795592                0.358414\n",
       "std        0.456514    174.896346                0.479542\n",
       "min        1.100000      0.000000                0.000000\n",
       "25%        3.700000    200.000000                0.000000\n",
       "50%        4.000000    250.000000                0.000000\n",
       "75%        4.200000    300.000000                1.000000\n",
       "max        5.000000   3100.000000                1.000000"
      ]
     },
     "execution_count": 10,
     "metadata": {},
     "output_type": "execute_result"
    }
   ],
   "source": [
    "# describe of the data\n",
    "data.describe()"
   ]
  },
  {
   "cell_type": "markdown",
   "id": "5ed2cadc",
   "metadata": {},
   "source": [
    "## So in the project  Null values are:\n",
    "#### We find that the Rating- 17666 (it is a Numeric DataType)\n",
    "#### Locality - 24, Address - 2 (it is a String  DataType)"
   ]
  },
  {
   "cell_type": "markdown",
   "id": "8d550b7c",
   "metadata": {},
   "source": [
    "### So Rating is a Numerical datatype we can easily replace by the mean of the dataset of the column rating"
   ]
  },
  {
   "cell_type": "code",
   "execution_count": 11,
   "id": "b1d62222",
   "metadata": {},
   "outputs": [],
   "source": [
    "# mean of the data\n",
    "mean=data[\"Rating\"].mean()"
   ]
  },
  {
   "cell_type": "code",
   "execution_count": 12,
   "id": "592b2be7",
   "metadata": {},
   "outputs": [],
   "source": [
    "# repalcing the null values with mean\n",
    "data.Rating.fillna(mean,inplace=True)"
   ]
  },
  {
   "cell_type": "markdown",
   "id": "62fbac82",
   "metadata": {},
   "source": [
    "### We can see that the data of the rating coulmns is  Zero After repacing it with the Mean"
   ]
  },
  {
   "cell_type": "code",
   "execution_count": 13,
   "id": "b8eee6b4",
   "metadata": {},
   "outputs": [
    {
     "data": {
      "text/plain": [
       "Restaurant Name            0\n",
       "Category                   0\n",
       "Rating                     0\n",
       "Cost for two               0\n",
       "Veg                        0\n",
       "city                       0\n",
       "Area                       0\n",
       "Locality                  24\n",
       "Address                    2\n",
       "Long Distance Delivery     0\n",
       "dtype: int64"
      ]
     },
     "execution_count": 13,
     "metadata": {},
     "output_type": "execute_result"
    }
   ],
   "source": [
    "data.isnull().sum()"
   ]
  },
  {
   "cell_type": "markdown",
   "id": "c2557d20",
   "metadata": {},
   "source": [
    "### Coming to the Locality and Address we can replae it by any method\n",
    "#### 1) i have count the most of the locality used by the customers so i have taken the frist and repalce the remaning null values by the most used location\n",
    "#### 2) find the mode of the address and replace with the null ones"
   ]
  },
  {
   "cell_type": "code",
   "execution_count": 14,
   "id": "a36b5833",
   "metadata": {},
   "outputs": [
    {
     "data": {
      "text/plain": [
       "Civil Lines               680\n",
       "Indirapuram               415\n",
       "Kothrud                   359\n",
       "Raj Nagar                 338\n",
       "Crossing Republic         319\n",
       "                         ... \n",
       "BASEMENT 1, UNIT NO 4       1\n",
       "Odhav                       1\n",
       "Galaxy Complex, Naroda      1\n",
       "Gandhinagar                 1\n",
       "PVR Bareilly                1\n",
       "Name: Locality, Length: 5024, dtype: int64"
      ]
     },
     "execution_count": 14,
     "metadata": {},
     "output_type": "execute_result"
    }
   ],
   "source": [
    "# count the top Locality of the location\n",
    "data['Locality'].value_counts()"
   ]
  },
  {
   "cell_type": "code",
   "execution_count": 15,
   "id": "fc63d069",
   "metadata": {},
   "outputs": [],
   "source": [
    "# Replace with the top one\n",
    "data.Locality.fillna(\"Civil Lines\",inplace=True)"
   ]
  },
  {
   "cell_type": "code",
   "execution_count": 16,
   "id": "0e2279cc",
   "metadata": {},
   "outputs": [
    {
     "data": {
      "text/plain": [
       "'DSS NO-41 HUDA MARKET SECTOR 31 FARIDABAD, Faridabad Town, Faridabad, Faridabad, Haryana-121002'"
      ]
     },
     "execution_count": 16,
     "metadata": {},
     "output_type": "execute_result"
    }
   ],
   "source": [
    "# find the mode of the Address and Replace with the mode\n",
    "mode_address=data.Address.mode()\n",
    "mode_address[0]"
   ]
  },
  {
   "cell_type": "code",
   "execution_count": 17,
   "id": "1e288691",
   "metadata": {},
   "outputs": [],
   "source": [
    "data.Address.fillna(mode_address[0],inplace=True)"
   ]
  },
  {
   "cell_type": "markdown",
   "id": "d25f935c",
   "metadata": {},
   "source": [
    "### Checking the null values again\n",
    "#### So their is no null values form this the data cleaning has been completed"
   ]
  },
  {
   "cell_type": "code",
   "execution_count": 18,
   "id": "c03a81fa",
   "metadata": {},
   "outputs": [
    {
     "data": {
      "text/html": [
       "<div>\n",
       "<style scoped>\n",
       "    .dataframe tbody tr th:only-of-type {\n",
       "        vertical-align: middle;\n",
       "    }\n",
       "\n",
       "    .dataframe tbody tr th {\n",
       "        vertical-align: top;\n",
       "    }\n",
       "\n",
       "    .dataframe thead th {\n",
       "        text-align: right;\n",
       "    }\n",
       "</style>\n",
       "<table border=\"1\" class=\"dataframe\">\n",
       "  <thead>\n",
       "    <tr style=\"text-align: right;\">\n",
       "      <th></th>\n",
       "      <th>Restaurant Name</th>\n",
       "      <th>Category</th>\n",
       "      <th>Rating</th>\n",
       "      <th>Cost for two</th>\n",
       "      <th>Veg</th>\n",
       "      <th>city</th>\n",
       "      <th>Area</th>\n",
       "      <th>Locality</th>\n",
       "      <th>Address</th>\n",
       "      <th>Long Distance Delivery</th>\n",
       "    </tr>\n",
       "  </thead>\n",
       "  <tbody>\n",
       "    <tr>\n",
       "      <th>0</th>\n",
       "      <td>False</td>\n",
       "      <td>False</td>\n",
       "      <td>False</td>\n",
       "      <td>False</td>\n",
       "      <td>False</td>\n",
       "      <td>False</td>\n",
       "      <td>False</td>\n",
       "      <td>False</td>\n",
       "      <td>False</td>\n",
       "      <td>False</td>\n",
       "    </tr>\n",
       "    <tr>\n",
       "      <th>1</th>\n",
       "      <td>False</td>\n",
       "      <td>False</td>\n",
       "      <td>False</td>\n",
       "      <td>False</td>\n",
       "      <td>False</td>\n",
       "      <td>False</td>\n",
       "      <td>False</td>\n",
       "      <td>False</td>\n",
       "      <td>False</td>\n",
       "      <td>False</td>\n",
       "    </tr>\n",
       "    <tr>\n",
       "      <th>2</th>\n",
       "      <td>False</td>\n",
       "      <td>False</td>\n",
       "      <td>False</td>\n",
       "      <td>False</td>\n",
       "      <td>False</td>\n",
       "      <td>False</td>\n",
       "      <td>False</td>\n",
       "      <td>False</td>\n",
       "      <td>False</td>\n",
       "      <td>False</td>\n",
       "    </tr>\n",
       "    <tr>\n",
       "      <th>3</th>\n",
       "      <td>False</td>\n",
       "      <td>False</td>\n",
       "      <td>False</td>\n",
       "      <td>False</td>\n",
       "      <td>False</td>\n",
       "      <td>False</td>\n",
       "      <td>False</td>\n",
       "      <td>False</td>\n",
       "      <td>False</td>\n",
       "      <td>False</td>\n",
       "    </tr>\n",
       "    <tr>\n",
       "      <th>4</th>\n",
       "      <td>False</td>\n",
       "      <td>False</td>\n",
       "      <td>False</td>\n",
       "      <td>False</td>\n",
       "      <td>False</td>\n",
       "      <td>False</td>\n",
       "      <td>False</td>\n",
       "      <td>False</td>\n",
       "      <td>False</td>\n",
       "      <td>False</td>\n",
       "    </tr>\n",
       "    <tr>\n",
       "      <th>...</th>\n",
       "      <td>...</td>\n",
       "      <td>...</td>\n",
       "      <td>...</td>\n",
       "      <td>...</td>\n",
       "      <td>...</td>\n",
       "      <td>...</td>\n",
       "      <td>...</td>\n",
       "      <td>...</td>\n",
       "      <td>...</td>\n",
       "      <td>...</td>\n",
       "    </tr>\n",
       "    <tr>\n",
       "      <th>31799</th>\n",
       "      <td>False</td>\n",
       "      <td>False</td>\n",
       "      <td>False</td>\n",
       "      <td>False</td>\n",
       "      <td>False</td>\n",
       "      <td>False</td>\n",
       "      <td>False</td>\n",
       "      <td>False</td>\n",
       "      <td>False</td>\n",
       "      <td>False</td>\n",
       "    </tr>\n",
       "    <tr>\n",
       "      <th>31800</th>\n",
       "      <td>False</td>\n",
       "      <td>False</td>\n",
       "      <td>False</td>\n",
       "      <td>False</td>\n",
       "      <td>False</td>\n",
       "      <td>False</td>\n",
       "      <td>False</td>\n",
       "      <td>False</td>\n",
       "      <td>False</td>\n",
       "      <td>False</td>\n",
       "    </tr>\n",
       "    <tr>\n",
       "      <th>31801</th>\n",
       "      <td>False</td>\n",
       "      <td>False</td>\n",
       "      <td>False</td>\n",
       "      <td>False</td>\n",
       "      <td>False</td>\n",
       "      <td>False</td>\n",
       "      <td>False</td>\n",
       "      <td>False</td>\n",
       "      <td>False</td>\n",
       "      <td>False</td>\n",
       "    </tr>\n",
       "    <tr>\n",
       "      <th>31802</th>\n",
       "      <td>False</td>\n",
       "      <td>False</td>\n",
       "      <td>False</td>\n",
       "      <td>False</td>\n",
       "      <td>False</td>\n",
       "      <td>False</td>\n",
       "      <td>False</td>\n",
       "      <td>False</td>\n",
       "      <td>False</td>\n",
       "      <td>False</td>\n",
       "    </tr>\n",
       "    <tr>\n",
       "      <th>31803</th>\n",
       "      <td>False</td>\n",
       "      <td>False</td>\n",
       "      <td>False</td>\n",
       "      <td>False</td>\n",
       "      <td>False</td>\n",
       "      <td>False</td>\n",
       "      <td>False</td>\n",
       "      <td>False</td>\n",
       "      <td>False</td>\n",
       "      <td>False</td>\n",
       "    </tr>\n",
       "  </tbody>\n",
       "</table>\n",
       "<p>31804 rows × 10 columns</p>\n",
       "</div>"
      ],
      "text/plain": [
       "       Restaurant Name  Category  Rating  Cost for two    Veg   city   Area  \\\n",
       "0                False     False   False         False  False  False  False   \n",
       "1                False     False   False         False  False  False  False   \n",
       "2                False     False   False         False  False  False  False   \n",
       "3                False     False   False         False  False  False  False   \n",
       "4                False     False   False         False  False  False  False   \n",
       "...                ...       ...     ...           ...    ...    ...    ...   \n",
       "31799            False     False   False         False  False  False  False   \n",
       "31800            False     False   False         False  False  False  False   \n",
       "31801            False     False   False         False  False  False  False   \n",
       "31802            False     False   False         False  False  False  False   \n",
       "31803            False     False   False         False  False  False  False   \n",
       "\n",
       "       Locality  Address  Long Distance Delivery  \n",
       "0         False    False                   False  \n",
       "1         False    False                   False  \n",
       "2         False    False                   False  \n",
       "3         False    False                   False  \n",
       "4         False    False                   False  \n",
       "...         ...      ...                     ...  \n",
       "31799     False    False                   False  \n",
       "31800     False    False                   False  \n",
       "31801     False    False                   False  \n",
       "31802     False    False                   False  \n",
       "31803     False    False                   False  \n",
       "\n",
       "[31804 rows x 10 columns]"
      ]
     },
     "execution_count": 18,
     "metadata": {},
     "output_type": "execute_result"
    }
   ],
   "source": [
    "data.isnull()"
   ]
  },
  {
   "cell_type": "code",
   "execution_count": 19,
   "id": "e257c58e",
   "metadata": {},
   "outputs": [
    {
     "data": {
      "text/plain": [
       "Restaurant Name           0\n",
       "Category                  0\n",
       "Rating                    0\n",
       "Cost for two              0\n",
       "Veg                       0\n",
       "city                      0\n",
       "Area                      0\n",
       "Locality                  0\n",
       "Address                   0\n",
       "Long Distance Delivery    0\n",
       "dtype: int64"
      ]
     },
     "execution_count": 19,
     "metadata": {},
     "output_type": "execute_result"
    }
   ],
   "source": [
    "data.isnull().sum()"
   ]
  },
  {
   "cell_type": "markdown",
   "id": "c8be5bd0",
   "metadata": {},
   "source": [
    "## Univariate Analysis\n",
    "### Lets have a look at the distribution of various variables in the Data set.\n"
   ]
  },
  {
   "cell_type": "code",
   "execution_count": 20,
   "id": "7ae56b38",
   "metadata": {},
   "outputs": [
    {
     "data": {
      "image/png": "[encoded data removed]",
      "text/plain": [
       "<Figure size 432x288 with 1 Axes>"
      ]
     },
     "metadata": {
      "needs_background": "light"
     },
     "output_type": "display_data"
    }
   ],
   "source": [
    "# HISTOGRAM - sns.histplot() , for the rating\n",
    "sns.histplot(x='Rating',data=data)\n",
    "plt.title('Distribution of Rating')\n",
    "plt.show()"
   ]
  },
  {
   "cell_type": "markdown",
   "id": "145eb341",
   "metadata": {},
   "source": [
    "#### Here we see that the mostly 3.5 to 4.5 the  Rating is high ."
   ]
  },
  {
   "cell_type": "code",
   "execution_count": 21,
   "id": "614e963d",
   "metadata": {},
   "outputs": [
    {
     "data": {
      "image/png": "[encoded data removed]",
      "text/plain": [
       "<Figure size 1080x720 with 3 Axes>"
      ]
     },
     "metadata": {
      "needs_background": "light"
     },
     "output_type": "display_data"
    }
   ],
   "source": [
    "# The reamining cols for the numerical datatypes showing in the histogram\n",
    "cols = 3\n",
    "rows = 2\n",
    "num_cols = data.select_dtypes(exclude=['object','bool']).columns\n",
    "fig = plt.figure( figsize=(cols*5, rows*5))\n",
    "for i, col in enumerate(num_cols):\n",
    "#for i in num_cols:    \n",
    "    ax=fig.add_subplot(rows,cols,i+1)\n",
    "    \n",
    "    sns.histplot(x = data[col], ax = ax)\n",
    "    \n",
    "fig.tight_layout()  \n",
    "plt.show()"
   ]
  },
  {
   "cell_type": "code",
   "execution_count": 22,
   "id": "76b8250d",
   "metadata": {},
   "outputs": [
    {
     "data": {
      "text/plain": [
       "<AxesSubplot:xlabel='Rating', ylabel='Density'>"
      ]
     },
     "execution_count": 22,
     "metadata": {},
     "output_type": "execute_result"
    },
    {
     "data": {
      "image/png": "[encoded data removed]",
      "text/plain": [
       "<Figure size 432x288 with 1 Axes>"
      ]
     },
     "metadata": {
      "needs_background": "light"
     },
     "output_type": "display_data"
    }
   ],
   "source": [
    "# 2. KDE PLOT - Kernal Density Plot - sns.kdeplot()\n",
    "sns.kdeplot(x='Rating', data=data, hue='Veg')"
   ]
  },
  {
   "cell_type": "code",
   "execution_count": 23,
   "id": "ea7b833f",
   "metadata": {},
   "outputs": [
    {
     "data": {
      "text/plain": [
       "<AxesSubplot:xlabel='Rating', ylabel='Count'>"
      ]
     },
     "execution_count": 23,
     "metadata": {},
     "output_type": "execute_result"
    },
    {
     "data": {
      "image/png": "[encoded data removed]",
      "text/plain": [
       "<Figure size 432x288 with 1 Axes>"
      ]
     },
     "metadata": {
      "needs_background": "light"
     },
     "output_type": "display_data"
    }
   ],
   "source": [
    "# with histogram - sns.histplot(kde=TRUE)\n",
    "sns.histplot(x='Rating', data=data, kde=True)"
   ]
  },
  {
   "cell_type": "markdown",
   "id": "815392a0",
   "metadata": {},
   "source": [
    "### For the Rating column the outliers are lie in between 1-5 so we are not aware about the outliers"
   ]
  },
  {
   "cell_type": "code",
   "execution_count": 24,
   "id": "834bfe50",
   "metadata": {},
   "outputs": [
    {
     "data": {
      "text/plain": [
       "<AxesSubplot:xlabel='Rating'>"
      ]
     },
     "execution_count": 24,
     "metadata": {},
     "output_type": "execute_result"
    },
    {
     "data": {
      "image/png": "[encoded data removed]",
      "text/plain": [
       "<Figure size 432x288 with 1 Axes>"
      ]
     },
     "metadata": {
      "needs_background": "light"
     },
     "output_type": "display_data"
    }
   ],
   "source": [
    "# 4. BOX PLOTS - sns.boxplot()\n",
    "sns.boxplot(x=data['Rating'])"
   ]
  },
  {
   "cell_type": "code",
   "execution_count": 25,
   "id": "86b3b5ad",
   "metadata": {},
   "outputs": [
    {
     "data": {
      "image/png": "[encoded data removed]",
      "text/plain": [
       "<Figure size 1080x648 with 3 Axes>"
      ]
     },
     "metadata": {
      "needs_background": "light"
     },
     "output_type": "display_data"
    }
   ],
   "source": [
    "cols = 3\n",
    "rows = 3\n",
    "num_cols = data.select_dtypes(exclude=['object','bool']).columns\n",
    "fig = plt.figure(figsize= (15,9))\n",
    "for i, col in enumerate(num_cols):\n",
    "    \n",
    "    ax=fig.add_subplot( rows, cols, i+1)\n",
    "    \n",
    "    sns.boxplot(x=data[col], ax=ax)\n",
    "    \n",
    "fig.tight_layout()  \n",
    "plt.show()"
   ]
  },
  {
   "cell_type": "markdown",
   "id": "ab2565b7",
   "metadata": {},
   "source": [
    "### We are counting the number of orders has taken in each city showing in the below "
   ]
  },
  {
   "cell_type": "code",
   "execution_count": 26,
   "id": "f2471638",
   "metadata": {},
   "outputs": [
    {
     "name": "stderr",
     "output_type": "stream",
     "text": [
      "C:\\Users\\chall\\anaconda3\\lib\\site-packages\\seaborn\\_decorators.py:36: FutureWarning: Pass the following variable as a keyword arg: x. From version 0.12, the only valid positional argument will be `data`, and passing other arguments without an explicit keyword will result in an error or misinterpretation.\n",
      "  warnings.warn(\n"
     ]
    },
    {
     "data": {
      "image/png": "[encoded data removed]",
      "text/plain": [
       "<Figure size 1152x504 with 1 Axes>"
      ]
     },
     "metadata": {},
     "output_type": "display_data"
    }
   ],
   "source": [
    "sns.set_style(\"darkgrid\")\n",
    "plt.figure(figsize=(16,7))\n",
    "sns.countplot(data[\"city\"].sort_values())\n",
    "plt.xticks(rotation=70)\n",
    "plt.tight_layout()\n",
    "plt.title(\"Counting no.of orders in each city\")\n",
    "plt.show()"
   ]
  },
  {
   "cell_type": "code",
   "execution_count": null,
   "id": "dc279bb9",
   "metadata": {},
   "outputs": [],
   "source": []
  }
 ],
 "metadata": {
  "kernelspec": {
   "display_name": "Python 3 (ipykernel)",
   "language": "python",
   "name": "python3"
  },
  "language_info": {
   "codemirror_mode": {
    "name": "ipython",
    "version": 3
   },
   "file_extension": ".py",
   "mimetype": "text/x-python",
   "name": "python",
   "nbconvert_exporter": "python",
   "pygments_lexer": "ipython3",
   "version": "3.9.7"
  }
 },
 "nbformat": 4,
 "nbformat_minor": 5
}
